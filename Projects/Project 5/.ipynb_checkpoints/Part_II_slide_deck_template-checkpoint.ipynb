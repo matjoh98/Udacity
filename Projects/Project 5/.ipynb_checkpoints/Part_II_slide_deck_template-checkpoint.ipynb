{
 "cells": [
  {
   "cell_type": "markdown",
   "metadata": {
    "slideshow": {
     "slide_type": "slide"
    }
   },
   "source": [
    "# Part II - Prosper Loan Analysis\n",
    "## by Mattias Johansson"
   ]
  },
  {
   "cell_type": "markdown",
   "metadata": {
    "slideshow": {
     "slide_type": "slide"
    }
   },
   "source": [
    ">**Before you start**: You must have the README.md file ready that include a summary of main findings that reflects on the steps taken during the data exploration (Part I notebook). The README.md file should also describes the key insights that will be conveyed by the explanatory slide deck (Part II  outcome)\n",
    "\n",
    "> Describe the overall goals of your presentation here. Add a summary of key insights at the start of the notebook, just as you added in the README.md. This will help your notebook to stay aligned to the key insights you want to include in your slide deck.\n",
    "\n",
    "> **Rubric Tip**: The key insights in the slideshow must match those documented in the README.md summary. \n",
    "\n",
    "\n",
    "## Investigation Overview\n",
    "\n",
    "This investigation aims to explore and analyze correlations between the prosper loans and APR that the loan takers will recieve. The parameters of focus is the loan amount, APR (Annual Percentage Rate), loan rate, occupation, loan status, employment status. Other parameters that helped the analysis are income and monthly loan payment. \n",
    "\n",
    "The end goal is to find an explanation to the APR value and size of the loans in terms to the previously stated parameters\n",
    "\n",
    "## Dataset Overview\n",
    "\n",
    "The dataset contains detailed information on 113,937 loans, with 81 different variables recorded for each loan. These variables include the loan amount, the borrower's interest rate, the current status of the loan, the borrower's income, and many other relevant details. Some information was gathered from 2009 and forward, and here we **only** use data that have been provided from 2009 and forward."
   ]
  },
  {
   "cell_type": "code",
   "execution_count": 4,
   "metadata": {
    "slideshow": {
     "slide_type": "skip"
    }
   },
   "outputs": [],
   "source": [
    "# import all packages and set plots to be embedded inline\n",
    "import numpy as np\n",
    "import pandas as pd\n",
    "import matplotlib.pyplot as plt\n",
    "import seaborn as sb\n",
    "\n",
    "%matplotlib inline\n",
    "\n",
    "# suppress warnings from final output\n",
    "import warnings\n",
    "warnings.simplefilter(\"ignore\")"
   ]
  },
  {
   "cell_type": "code",
   "execution_count": 6,
   "metadata": {
    "slideshow": {
     "slide_type": "skip"
    }
   },
   "outputs": [],
   "source": [
    "# load in the dataset into a pandas dataframe\n",
    "df = pd.read_csv(\"data/prosperLoanData.csv\")\n",
    "df = df[[\"ListingKey\",\"ListingNumber\",\"ListingCreationDate\",\"Term\",\"LoanStatus\",\"LoanNumber\",\"BorrowerAPR\",\"BorrowerRate\",\"LenderYield\",\"BorrowerState\",\"Occupation\",\"EmploymentStatus\",\"EmploymentStatusDuration\",\"IsBorrowerHomeowner\",\"DateCreditPulled\",\"CreditScoreRangeLower\",\"CreditScoreRangeUpper\",\"FirstRecordedCreditLine\",\"DebtToIncomeRatio\",\"IncomeRange\",\"StatedMonthlyIncome\",\"LoanKey\",\"LoanMonthsSinceOrigination\",\"LoanOriginalAmount\",\"LoanOriginationDate\",\"LoanOriginationQuarter\",\"MonthlyLoanPayment\",\"PercentFunded\",\"Recommendations\",\"InvestmentFromFriendsCount\",\"InvestmentFromFriendsAmount\",\"Investors\"]]\n",
    "df = df.dropna().reset_index(drop=True)\n",
    "\n",
    "\n",
    "def histo(df, binsize, column, xlabel, ylabel, title):\n",
    "    binsize = binsize\n",
    "    bins = np.arange(0, df[column].max()+binsize, binsize)\n",
    "    plt.figure(figsize=[14, 8])\n",
    "    hist = plt.hist(data = df, x = column, bins = bins)\n",
    "    plt.xlabel(xlabel)\n",
    "    plt.ylabel(ylabel)\n",
    "    plt.title(title)\n",
    "    plt.axvline(np.mean(df[column]),color = \"red\",label = f\"mean: {np.round(np.mean(df[column]),3)}\")\n",
    "    plt.axvline(np.median(df[column]),color = \"green\",label = f\"median: {np.round(np.median(df[column]),3)}\")\n",
    "    plt.legend()\n",
    "    plt.show()\n",
    "\n",
    "# Plot in log to easier see the distribution\n",
    "def histo_log(df, column, xticks, xticks_name, xlabel, ylabel, title):\n",
    "    log_binsize = 0.06\n",
    "    bins = 10 ** np.arange(3, np.log10(df[column].max())+log_binsize, log_binsize)\n",
    "    plt.figure(figsize=[14, 8])\n",
    "    plt.hist(data = df, x = column, bins = bins)\n",
    "    plt.xscale('log')\n",
    "    plt.axvline(np.mean(df[column]),color = \"red\", label = f\"mean: {np.round(np.mean(df[column]))}\")\n",
    "    plt.axvline(np.median(df[column]),color = \"green\",label = f\"median: {np.round(np.median(df[column]))}\")\n",
    "    plt.xticks(xticks, xticks_name)\n",
    "    plt.xlabel(xlabel)\n",
    "    plt.ylabel(ylabel)\n",
    "    plt.title(title)\n",
    "    plt.legend()\n",
    "    plt.show()\n",
    "    \n",
    "\n",
    "# histo(df=df, binsize = 800, column = \"LoanOriginalAmount\", xlabel = \"Loan Original Amount [$]\", ylabel = \"Count\", title = \"Loan Original Amount\")"
   ]
  },
  {
   "cell_type": "markdown",
   "metadata": {
    "slideshow": {
     "slide_type": "notes"
    }
   },
   "source": [
    "> Note that the above cells have been set as \"Skip\"-type slides. That means\n",
    "that when the notebook is rendered as http slides, those cells won't show up."
   ]
  },
  {
   "cell_type": "markdown",
   "metadata": {
    "slideshow": {
     "slide_type": "slide"
    }
   },
   "source": [
    "## (Visualization 1)\n",
    "\n",
    "> Write a comment about your visualization here. The visualization should be in the next cell, as a sub-slide type. Make sure your visualizations are polished!\n",
    "\n",
    "> **Rubric Tip**: Provide at least 3 **polished** visualizations to convey key insights. The total number of visualizations in the slideshow shoould be less than 50% of the number of visualizations in the exploratory analysis. For example, if the exploratory analysis (Part I) has 18 visualizations, the slideshow can have (3 - 8) visualizations. \n",
    "\n",
    "\n",
    "> **Rubric Tip**: Each visualization in the slideshow is associated with **descriptive comments** that accurately depict their purpose and your observation. \n",
    "\n",
    "\n",
    "> **Rubric Tip**: All plots in the slideshow are appropriate, meaning the plot type, encodings, and transformations are suitable to the underlying data. \n",
    "\n",
    "> **Rubric Tip**: All plots in the slideshow are polished, meaning all plots have a title, labeled x/y axes (with units), x/y ticks, and legends. "
   ]
  },
  {
   "cell_type": "code",
   "execution_count": 7,
   "metadata": {
    "slideshow": {
     "slide_type": "subslide"
    }
   },
   "outputs": [
    {
     "data": {
      "image/png": "[encoded data removed]",
      "text/plain": [
       "<Figure size 1008x576 with 1 Axes>"
      ]
     },
     "metadata": {
      "needs_background": "light"
     },
     "output_type": "display_data"
    }
   ],
   "source": [
    "histo_log(df = df, column = \"LoanOriginalAmount\", xticks =[500, 1e3, 2e3, 5e3, 1e4, 2e4, 3e4], xticks_name=[500, '1k', '2k', '5k', '10k', '20k',\"34k\"], xlabel=\"Loan Original Amount [$]\", ylabel= \"Count\", title=\"Loan Original Amount log scale\")"
   ]
  },
  {
   "cell_type": "markdown",
   "metadata": {
    "collapsed": true,
    "slideshow": {
     "slide_type": "slide"
    }
   },
   "source": [
    "## (Visualization 2)\n",
    "\n",
    "> You should have at least three visualizations in your presentation,\n",
    "but feel free to add more if you'd like!"
   ]
  },
  {
   "cell_type": "code",
   "execution_count": null,
   "metadata": {
    "slideshow": {
     "slide_type": "subslide"
    }
   },
   "outputs": [],
   "source": []
  },
  {
   "cell_type": "markdown",
   "metadata": {
    "slideshow": {
     "slide_type": "slide"
    }
   },
   "source": [
    "## (Visualization 3)\n",
    "\n"
   ]
  },
  {
   "cell_type": "code",
   "execution_count": null,
   "metadata": {
    "slideshow": {
     "slide_type": "subslide"
    }
   },
   "outputs": [],
   "source": []
  },
  {
   "cell_type": "markdown",
   "metadata": {
    "slideshow": {
     "slide_type": "skip"
    }
   },
   "source": [
    "### Generate Slideshow\n",
    "Once you're ready to generate your slideshow, use the `jupyter nbconvert` command to generate the HTML slide show.  "
   ]
  },
  {
   "cell_type": "code",
   "execution_count": null,
   "metadata": {
    "slideshow": {
     "slide_type": "skip"
    }
   },
   "outputs": [],
   "source": [
    "# Use this command if you are running this file in local\n",
    "!jupyter nbconvert <Part_II_Filename>.ipynb --to slides --post serve --no-input --no-prompt"
   ]
  },
  {
   "cell_type": "markdown",
   "metadata": {
    "slideshow": {
     "slide_type": "skip"
    }
   },
   "source": [
    "> In the classroom workspace, the generated HTML slideshow will be placed in the home folder. \n",
    "\n",
    "> In local machines, the command above should open a tab in your web browser where you can scroll through your presentation. Sub-slides can be accessed by pressing 'down' when viewing its parent slide. Make sure you remove all of the quote-formatted guide notes like this one before you finish your presentation! At last, you can stop the Kernel. "
   ]
  },
  {
   "cell_type": "markdown",
   "metadata": {},
   "source": [
    "### Submission\n",
    "If you are using classroom workspace, you can choose from the following two ways of submission:\n",
    "\n",
    "1. **Submit from the workspace**. Make sure you have removed the example project from the /home/workspace directory. You must submit the following files:\n",
    "   - Part_I_notebook.ipynb\n",
    "   - Part_I_notebook.html or pdf\n",
    "   - Part_II_notebook.ipynb\n",
    "   - Part_I_slides.html\n",
    "   - README.md\n",
    "   - dataset (optional)\n",
    "\n",
    "\n",
    "2. **Submit a zip file on the last page of this project lesson**. In this case, open the Jupyter terminal and run the command below to generate a ZIP file. \n",
    "```bash\n",
    "zip -r my_project.zip .\n",
    "```\n",
    "The command abobve will ZIP every file present in your /home/workspace directory. Next, you can download the zip to your local, and follow the instructions on the last page of this project lesson.\n"
   ]
  },
  {
   "cell_type": "code",
   "execution_count": null,
   "metadata": {},
   "outputs": [],
   "source": [
    "!jupyter nbconvert Part_II_slide_deck_template.ipynb --to slides --post serve --no-input --no-prompt\n"
   ]
  }
 ],
 "metadata": {
  "celltoolbar": "Slideshow",
  "kernelspec": {
   "display_name": "Python 3 (ipykernel)",
   "language": "python",
   "name": "python3"
  },
  "language_info": {
   "codemirror_mode": {
    "name": "ipython",
    "version": 3
   },
   "file_extension": ".py",
   "mimetype": "text/x-python",
   "name": "python",
   "nbconvert_exporter": "python",
   "pygments_lexer": "ipython3",
   "version": "3.9.12"
  }
 },
 "nbformat": 4,
 "nbformat_minor": 2
}
